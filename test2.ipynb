{
 "cells": [
  {
   "cell_type": "code",
   "execution_count": 1,
   "metadata": {},
   "outputs": [],
   "source": [
    "import scipy.io"
   ]
  },
  {
   "cell_type": "code",
   "execution_count": 2,
   "metadata": {},
   "outputs": [],
   "source": [
    "PATH = 'white.mat'\n",
    "tmp = scipy.io.loadmat(PATH)"
   ]
  },
  {
   "cell_type": "code",
   "execution_count": 5,
   "metadata": {},
   "outputs": [
    {
     "name": "stdout",
     "output_type": "stream",
     "text": [
      "(4699904, 1)\n"
     ]
    }
   ],
   "source": [
    "print(tmp['white'].shape)"
   ]
  },
  {
   "cell_type": "code",
   "execution_count": 9,
   "metadata": {},
   "outputs": [
    {
     "name": "stdout",
     "output_type": "stream",
     "text": [
      "(4699904, 1)\n"
     ]
    }
   ],
   "source": [
    "PATH2 = 'pink.mat'\n",
    "tmp2 = scipy.io.loadmat(PATH2)\n",
    "print(tmp2['pink'].shape)"
   ]
  }
 ],
 "metadata": {
  "interpreter": {
   "hash": "ceb09949119c095cf013332af517c378069527a80f7c54baff7eeda100deb3c6"
  },
  "kernelspec": {
   "display_name": "Python 3.10.0 64-bit ('audio_test': conda)",
   "language": "python",
   "name": "python3"
  },
  "language_info": {
   "codemirror_mode": {
    "name": "ipython",
    "version": 3
   },
   "file_extension": ".py",
   "mimetype": "text/x-python",
   "name": "python",
   "nbconvert_exporter": "python",
   "pygments_lexer": "ipython3",
   "version": "3.10.0"
  },
  "orig_nbformat": 4
 },
 "nbformat": 4,
 "nbformat_minor": 2
}
